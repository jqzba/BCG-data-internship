{
  "nbformat": 4,
  "nbformat_minor": 0,
  "metadata": {
    "colab": {
      "provenance": []
    },
    "kernelspec": {
      "name": "python3",
      "display_name": "Python 3"
    },
    "language_info": {
      "name": "python"
    }
  },
  "cells": [
    {
      "cell_type": "code",
      "execution_count": 1,
      "metadata": {
        "id": "RfBc0PPwX61p"
      },
      "outputs": [],
      "source": [
        "import matplotlib.pyplot as plt\n",
        "import seaborn as sns\n",
        "import pandas as pd\n",
        "\n",
        "%matplotlib inline\n",
        "\n",
        "sns.set(color_codes=True)"
      ]
    },
    {
      "cell_type": "code",
      "source": [
        "from google.colab import files \n",
        "uploaded = files.upload()"
      ],
      "metadata": {
        "colab": {
          "base_uri": "https://localhost:8080/",
          "height": 109
        },
        "id": "aIHYh7pNYGq5",
        "outputId": "45c60f30-cfba-4f0a-8f00-3f196c633f5c"
      },
      "execution_count": 2,
      "outputs": [
        {
          "output_type": "display_data",
          "data": {
            "text/plain": [
              "<IPython.core.display.HTML object>"
            ],
            "text/html": [
              "\n",
              "     <input type=\"file\" id=\"files-ce8a9de8-aee8-4441-bf55-86e5aa5c2952\" name=\"files[]\" multiple disabled\n",
              "        style=\"border:none\" />\n",
              "     <output id=\"result-ce8a9de8-aee8-4441-bf55-86e5aa5c2952\">\n",
              "      Upload widget is only available when the cell has been executed in the\n",
              "      current browser session. Please rerun this cell to enable.\n",
              "      </output>\n",
              "      <script>// Copyright 2017 Google LLC\n",
              "//\n",
              "// Licensed under the Apache License, Version 2.0 (the \"License\");\n",
              "// you may not use this file except in compliance with the License.\n",
              "// You may obtain a copy of the License at\n",
              "//\n",
              "//      http://www.apache.org/licenses/LICENSE-2.0\n",
              "//\n",
              "// Unless required by applicable law or agreed to in writing, software\n",
              "// distributed under the License is distributed on an \"AS IS\" BASIS,\n",
              "// WITHOUT WARRANTIES OR CONDITIONS OF ANY KIND, either express or implied.\n",
              "// See the License for the specific language governing permissions and\n",
              "// limitations under the License.\n",
              "\n",
              "/**\n",
              " * @fileoverview Helpers for google.colab Python module.\n",
              " */\n",
              "(function(scope) {\n",
              "function span(text, styleAttributes = {}) {\n",
              "  const element = document.createElement('span');\n",
              "  element.textContent = text;\n",
              "  for (const key of Object.keys(styleAttributes)) {\n",
              "    element.style[key] = styleAttributes[key];\n",
              "  }\n",
              "  return element;\n",
              "}\n",
              "\n",
              "// Max number of bytes which will be uploaded at a time.\n",
              "const MAX_PAYLOAD_SIZE = 100 * 1024;\n",
              "\n",
              "function _uploadFiles(inputId, outputId) {\n",
              "  const steps = uploadFilesStep(inputId, outputId);\n",
              "  const outputElement = document.getElementById(outputId);\n",
              "  // Cache steps on the outputElement to make it available for the next call\n",
              "  // to uploadFilesContinue from Python.\n",
              "  outputElement.steps = steps;\n",
              "\n",
              "  return _uploadFilesContinue(outputId);\n",
              "}\n",
              "\n",
              "// This is roughly an async generator (not supported in the browser yet),\n",
              "// where there are multiple asynchronous steps and the Python side is going\n",
              "// to poll for completion of each step.\n",
              "// This uses a Promise to block the python side on completion of each step,\n",
              "// then passes the result of the previous step as the input to the next step.\n",
              "function _uploadFilesContinue(outputId) {\n",
              "  const outputElement = document.getElementById(outputId);\n",
              "  const steps = outputElement.steps;\n",
              "\n",
              "  const next = steps.next(outputElement.lastPromiseValue);\n",
              "  return Promise.resolve(next.value.promise).then((value) => {\n",
              "    // Cache the last promise value to make it available to the next\n",
              "    // step of the generator.\n",
              "    outputElement.lastPromiseValue = value;\n",
              "    return next.value.response;\n",
              "  });\n",
              "}\n",
              "\n",
              "/**\n",
              " * Generator function which is called between each async step of the upload\n",
              " * process.\n",
              " * @param {string} inputId Element ID of the input file picker element.\n",
              " * @param {string} outputId Element ID of the output display.\n",
              " * @return {!Iterable<!Object>} Iterable of next steps.\n",
              " */\n",
              "function* uploadFilesStep(inputId, outputId) {\n",
              "  const inputElement = document.getElementById(inputId);\n",
              "  inputElement.disabled = false;\n",
              "\n",
              "  const outputElement = document.getElementById(outputId);\n",
              "  outputElement.innerHTML = '';\n",
              "\n",
              "  const pickedPromise = new Promise((resolve) => {\n",
              "    inputElement.addEventListener('change', (e) => {\n",
              "      resolve(e.target.files);\n",
              "    });\n",
              "  });\n",
              "\n",
              "  const cancel = document.createElement('button');\n",
              "  inputElement.parentElement.appendChild(cancel);\n",
              "  cancel.textContent = 'Cancel upload';\n",
              "  const cancelPromise = new Promise((resolve) => {\n",
              "    cancel.onclick = () => {\n",
              "      resolve(null);\n",
              "    };\n",
              "  });\n",
              "\n",
              "  // Wait for the user to pick the files.\n",
              "  const files = yield {\n",
              "    promise: Promise.race([pickedPromise, cancelPromise]),\n",
              "    response: {\n",
              "      action: 'starting',\n",
              "    }\n",
              "  };\n",
              "\n",
              "  cancel.remove();\n",
              "\n",
              "  // Disable the input element since further picks are not allowed.\n",
              "  inputElement.disabled = true;\n",
              "\n",
              "  if (!files) {\n",
              "    return {\n",
              "      response: {\n",
              "        action: 'complete',\n",
              "      }\n",
              "    };\n",
              "  }\n",
              "\n",
              "  for (const file of files) {\n",
              "    const li = document.createElement('li');\n",
              "    li.append(span(file.name, {fontWeight: 'bold'}));\n",
              "    li.append(span(\n",
              "        `(${file.type || 'n/a'}) - ${file.size} bytes, ` +\n",
              "        `last modified: ${\n",
              "            file.lastModifiedDate ? file.lastModifiedDate.toLocaleDateString() :\n",
              "                                    'n/a'} - `));\n",
              "    const percent = span('0% done');\n",
              "    li.appendChild(percent);\n",
              "\n",
              "    outputElement.appendChild(li);\n",
              "\n",
              "    const fileDataPromise = new Promise((resolve) => {\n",
              "      const reader = new FileReader();\n",
              "      reader.onload = (e) => {\n",
              "        resolve(e.target.result);\n",
              "      };\n",
              "      reader.readAsArrayBuffer(file);\n",
              "    });\n",
              "    // Wait for the data to be ready.\n",
              "    let fileData = yield {\n",
              "      promise: fileDataPromise,\n",
              "      response: {\n",
              "        action: 'continue',\n",
              "      }\n",
              "    };\n",
              "\n",
              "    // Use a chunked sending to avoid message size limits. See b/62115660.\n",
              "    let position = 0;\n",
              "    do {\n",
              "      const length = Math.min(fileData.byteLength - position, MAX_PAYLOAD_SIZE);\n",
              "      const chunk = new Uint8Array(fileData, position, length);\n",
              "      position += length;\n",
              "\n",
              "      const base64 = btoa(String.fromCharCode.apply(null, chunk));\n",
              "      yield {\n",
              "        response: {\n",
              "          action: 'append',\n",
              "          file: file.name,\n",
              "          data: base64,\n",
              "        },\n",
              "      };\n",
              "\n",
              "      let percentDone = fileData.byteLength === 0 ?\n",
              "          100 :\n",
              "          Math.round((position / fileData.byteLength) * 100);\n",
              "      percent.textContent = `${percentDone}% done`;\n",
              "\n",
              "    } while (position < fileData.byteLength);\n",
              "  }\n",
              "\n",
              "  // All done.\n",
              "  yield {\n",
              "    response: {\n",
              "      action: 'complete',\n",
              "    }\n",
              "  };\n",
              "}\n",
              "\n",
              "scope.google = scope.google || {};\n",
              "scope.google.colab = scope.google.colab || {};\n",
              "scope.google.colab._files = {\n",
              "  _uploadFiles,\n",
              "  _uploadFilesContinue,\n",
              "};\n",
              "})(self);\n",
              "</script> "
            ]
          },
          "metadata": {}
        },
        {
          "output_type": "stream",
          "name": "stdout",
          "text": [
            "Saving client_data.csv to client_data.csv\n",
            "Saving price_data.csv to price_data.csv\n"
          ]
        }
      ]
    },
    {
      "cell_type": "code",
      "source": [
        "client_df = pd.read_csv('client_data.csv')\n",
        "price_df = pd.read_csv('price_data.csv')"
      ],
      "metadata": {
        "id": "1kaS8_4zZQdX"
      },
      "execution_count": 3,
      "outputs": []
    },
    {
      "cell_type": "code",
      "source": [
        "\n",
        "#add year feature to dataframe\n",
        "client_df['contract_start_year'] = client_df['date_activ'].dt.year\n",
        "client_df['cortract_end_year'] = client_df['date_end'].dt.year"
      ],
      "metadata": {
        "id": "0-oxy07EYPSf"
      },
      "execution_count": 4,
      "outputs": []
    },
    {
      "cell_type": "code",
      "source": [
        "from sklearn.preprocessing import LabelEncoder\n",
        "\n",
        "channel_encoder = LabelEncoder()\n",
        "\n",
        "client_df['channel_sales'] = channel_encoder.fit_transform(client_df['channel_sales'])\n",
        "\n",
        "origin_encoder = LabelEncoder()\n",
        "\n",
        "client_df['origin_up'] = origin_encoder.fit_transform(client_df['origin_up'])"
      ],
      "metadata": {
        "id": "8_ZGAiNIYiIq"
      },
      "execution_count": 5,
      "outputs": []
    },
    {
      "cell_type": "code",
      "source": [
        "#fix too complicated..\n",
        "def diff_price_by_attribute(df, attr):\n",
        "    price_dec = df.sort_values(by=['price_date']).groupby(['id'])[attr].last().reset_index()\n",
        "    price_jan = df.sort_values(by=['price_date']).groupby(['id'])[attr].first().reset_index()\n",
        "    price_dec[f'diff_dec_jan_{attr}'] = price_dec[attr] - price_jan[attr]\n",
        "    \n",
        "    return price_dec\n",
        "    \n"
      ],
      "metadata": {
        "id": "PTJTMu8jZXiJ"
      },
      "execution_count": 6,
      "outputs": []
    },
    {
      "cell_type": "markdown",
      "source": [],
      "metadata": {
        "id": "j7DsUPdSnQDn"
      }
    },
    {
      "cell_type": "code",
      "source": [
        "train_data = client_df.copy()\n",
        "\n",
        "\n",
        "price_df.info()\n",
        "attrs = ['price_off_peak_var', 'price_off_peak_fix']\n",
        "\n",
        "for attr in attrs:\n",
        "  difference_data = diff_price_by_attribute(df=price_df, attr=attr)\n",
        "  train_data = train_data.merge(difference_data[['id', f'diff_dec_jan_{attr}']],\n",
        "                                on='id', how='left')\n",
        "\n",
        "print(train_data.head())"
      ],
      "metadata": {
        "colab": {
          "base_uri": "https://localhost:8080/"
        },
        "id": "h3myH_kVgLos",
        "outputId": "d12f9f6f-c801-47cd-d813-88c6d06aed7a"
      },
      "execution_count": 7,
      "outputs": [
        {
          "output_type": "stream",
          "name": "stdout",
          "text": [
            "<class 'pandas.core.frame.DataFrame'>\n",
            "RangeIndex: 193002 entries, 0 to 193001\n",
            "Data columns (total 8 columns):\n",
            " #   Column              Non-Null Count   Dtype  \n",
            "---  ------              --------------   -----  \n",
            " 0   id                  193002 non-null  object \n",
            " 1   price_date          193002 non-null  object \n",
            " 2   price_off_peak_var  193002 non-null  float64\n",
            " 3   price_peak_var      193002 non-null  float64\n",
            " 4   price_mid_peak_var  193002 non-null  float64\n",
            " 5   price_off_peak_fix  193002 non-null  float64\n",
            " 6   price_peak_fix      193002 non-null  float64\n",
            " 7   price_mid_peak_fix  193002 non-null  float64\n",
            "dtypes: float64(6), object(2)\n",
            "memory usage: 11.8+ MB\n",
            "                                 id  channel_sales  cons_12m  cons_gas_12m  \\\n",
            "0  24011ae4ebbe3035111d65fa7c15bc57              4         0         54946   \n",
            "1  d29c2c54acc38ff3c0614d0a653813dd              0      4660             0   \n",
            "2  764c75f661154dac3a6c254cd082ea7d              4       544             0   \n",
            "3  bba03439a292a1e166f80264c16191cb              5      1584             0   \n",
            "4  149d57cf92fc41cf94415803a877cb4b              0      4425             0   \n",
            "\n",
            "   cons_last_month date_activ   date_end date_modif_prod date_renewal  \\\n",
            "0                0 2013-06-15 2016-06-15      2015-11-01   2015-06-23   \n",
            "1                0 2009-08-21 2016-08-30      2009-08-21   2015-08-31   \n",
            "2                0 2010-04-16 2016-04-16      2010-04-16   2015-04-17   \n",
            "3                0 2010-03-30 2016-03-30      2010-03-30   2015-03-31   \n",
            "4              526 2010-01-13 2016-03-07      2010-01-13   2015-03-09   \n",
            "\n",
            "   forecast_cons_12m  ...  nb_prod_act  net_margin  num_years_antig  \\\n",
            "0               0.00  ...            2      678.99                3   \n",
            "1             189.95  ...            1       18.89                6   \n",
            "2              47.96  ...            1        6.60                6   \n",
            "3             240.04  ...            1       25.46                6   \n",
            "4             445.75  ...            1       47.98                6   \n",
            "\n",
            "   origin_up  pow_max  churn contract_start_year  cortract_end_year  \\\n",
            "0          4   43.648      1                2013               2016   \n",
            "1          2   13.800      0                2009               2016   \n",
            "2          2   13.856      0                2010               2016   \n",
            "3          2   13.200      0                2010               2016   \n",
            "4          2   19.800      0                2010               2016   \n",
            "\n",
            "   diff_dec_jan_price_off_peak_var  diff_dec_jan_price_off_peak_fix  \n",
            "0                         0.020057                         3.700961  \n",
            "1                        -0.003767                         0.177779  \n",
            "2                        -0.004670                         0.177779  \n",
            "3                        -0.004547                         0.177779  \n",
            "4                        -0.006192                         0.162916  \n",
            "\n",
            "[5 rows x 30 columns]\n"
          ]
        }
      ]
    },
    {
      "cell_type": "code",
      "source": [
        "\n",
        "#data preprocessing\n",
        "\n",
        "#drop useless columns\n",
        "drop_columns = ['date_activ','date_end','date_modif_prod','date_renewal']\n",
        "train_data = train_data.drop(columns=drop_columns)\n",
        "\n",
        "#make gas to categorical\n",
        "gas_encoder = LabelEncoder()\n",
        "train_data['has_gas'] = gas_encoder.fit_transform(train_data['has_gas'])\n",
        "\n",
        "\n",
        "\n",
        "\n",
        "\n",
        "\n",
        "\n",
        "\n"
      ],
      "metadata": {
        "id": "lZVjpFu6wCm1"
      },
      "execution_count": 8,
      "outputs": []
    },
    {
      "cell_type": "markdown",
      "source": [
        " Create training data and training label.\n",
        "\n",
        "Note: for tree-based models\n",
        "\n",
        "    there is no need to perform data scaling, unlike other machine learning models.\n",
        "    do not apply one-hot encoding to processing categorical variables, just use label-encoding to convert categorical variables to numeric variables."
      ],
      "metadata": {
        "id": "g6pUauR7K7yS"
      }
    },
    {
      "cell_type": "code",
      "source": [
        "X = train_data.drop(columns=['id', 'churn'])\n",
        "y = train_data['churn']\n",
        "\n",
        "X.shape, y.shape"
      ],
      "metadata": {
        "colab": {
          "base_uri": "https://localhost:8080/"
        },
        "id": "2DZuhZt7LDAp",
        "outputId": "f6e76bac-99d0-4828-e824-bc6756d194f9"
      },
      "execution_count": 9,
      "outputs": [
        {
          "output_type": "execute_result",
          "data": {
            "text/plain": [
              "((14606, 24), (14606,))"
            ]
          },
          "metadata": {},
          "execution_count": 9
        }
      ]
    },
    {
      "cell_type": "code",
      "source": [
        "from sklearn.model_selection import train_test_split\n",
        "from sklearn.ensemble import RandomForestClassifier\n",
        "import numpy as np\n",
        "\n",
        "\n",
        "pred_train_labels = np.zeros(shape=(X.shape[0], 2))\n",
        "\n",
        "feature_importance_df = pd.DataFrame(data={'feature_name':X.columns, 'feature_importance':[0]*len(X.columns)})\n",
        "\n",
        "X_train, X_test, y_train, y_test = train_test_split(X, y, test_size=0.2, random_state=42)\n",
        "\n",
        "rf = RandomForestClassifier(random_state=42)\n",
        "\n",
        "rf.fit(X_train, y_train)\n",
        "\n",
        "\n",
        "\n",
        "\n"
      ],
      "metadata": {
        "id": "gFoUnxjgL6wY",
        "colab": {
          "base_uri": "https://localhost:8080/"
        },
        "outputId": "86dc7bc2-374c-4365-bb09-184ed754504c"
      },
      "execution_count": 10,
      "outputs": [
        {
          "output_type": "execute_result",
          "data": {
            "text/plain": [
              "RandomForestClassifier(random_state=42)"
            ]
          },
          "metadata": {},
          "execution_count": 10
        }
      ]
    },
    {
      "cell_type": "code",
      "source": [
        "all_predictors = []\n",
        "  \n",
        "preds = rf.predict(X_test)\n",
        "preds = pd.Series(preds, index=y_test.index)\n",
        "\n",
        "predictions = pd.concat([y_test, preds], axis=1)\n",
        "predictions.columns = ['actual', 'prediction']\n",
        "\n",
        "print(predictions)\n",
        "\n",
        "\n",
        "\n",
        "\n",
        "\n"
      ],
      "metadata": {
        "colab": {
          "base_uri": "https://localhost:8080/"
        },
        "id": "k6djWifqoUOt",
        "outputId": "e142901a-17cc-47a6-c83f-76797230e927"
      },
      "execution_count": 11,
      "outputs": [
        {
          "output_type": "stream",
          "name": "stdout",
          "text": [
            "       actual  prediction\n",
            "4947        0           0\n",
            "5868        0           0\n",
            "6805        0           0\n",
            "1323        0           0\n",
            "11759       0           0\n",
            "...       ...         ...\n",
            "8846        0           0\n",
            "4075        0           0\n",
            "11619       0           0\n",
            "2992        0           0\n",
            "1369        0           0\n",
            "\n",
            "[2922 rows x 2 columns]\n"
          ]
        }
      ]
    },
    {
      "cell_type": "code",
      "source": [
        "from sklearn.metrics import accuracy_score\n",
        "\n",
        "accuracy_score(predictions['actual'], predictions['prediction'])"
      ],
      "metadata": {
        "colab": {
          "base_uri": "https://localhost:8080/"
        },
        "id": "GcsRKYMyz7xF",
        "outputId": "414e9f23-0c37-4fde-f0d8-0aa487e55f3d"
      },
      "execution_count": 12,
      "outputs": [
        {
          "output_type": "execute_result",
          "data": {
            "text/plain": [
              "0.9000684462696783"
            ]
          },
          "metadata": {},
          "execution_count": 12
        }
      ]
    },
    {
      "cell_type": "markdown",
      "source": [
        "Performance of algorithm is not very good. Only by estimating that all cases are not churn, we can have better performance. "
      ],
      "metadata": {
        "id": "OaPTpEk6P2NB"
      }
    },
    {
      "cell_type": "code",
      "source": [
        "##lets calc and evaluate the feature importances\n",
        "\n",
        "feature_importance_df['feature_importance'] = feature_importance_df['feature_importance'] + (rf.feature_importances_)\n",
        "\n",
        "fig = plt.figure(figsize=(12,10))\n",
        "\n",
        "ax = sns.barplot(data=feature_importance_df.sort_values(by=['feature_importance'],\n",
        "                                                        ascending=False), y='feature_name', \n",
        "                 x='feature_importance')\n",
        "\n"
      ],
      "metadata": {
        "colab": {
          "base_uri": "https://localhost:8080/",
          "height": 575
        },
        "id": "j5j2m5HlSSC2",
        "outputId": "a25a10f6-d35d-4e74-e30f-72bb64396945"
      },
      "execution_count": 14,
      "outputs": [
        {
          "output_type": "display_data",
          "data": {
            "text/plain": [
              "<Figure size 864x720 with 1 Axes>"
            ],
            "image/png": "[encoded data removed]"
          },
          "metadata": {}
        }
      ]
    },
    {
      "cell_type": "code",
      "source": [
        "from sklearn.metrics import classification_report\n",
        "print(classification_report(y_test, preds))"
      ],
      "metadata": {
        "colab": {
          "base_uri": "https://localhost:8080/"
        },
        "id": "2oT2mYibT5Zb",
        "outputId": "f2dce88d-262a-4308-ca88-fbbd2b86e02c"
      },
      "execution_count": 18,
      "outputs": [
        {
          "output_type": "stream",
          "name": "stdout",
          "text": [
            "              precision    recall  f1-score   support\n",
            "\n",
            "           0       0.90      1.00      0.95      2617\n",
            "           1       0.84      0.05      0.10       305\n",
            "\n",
            "    accuracy                           0.90      2922\n",
            "   macro avg       0.87      0.53      0.52      2922\n",
            "weighted avg       0.89      0.90      0.86      2922\n",
            "\n"
          ]
        }
      ]
    },
    {
      "cell_type": "markdown",
      "source": [
        "Out of positive churn predicted 84% were right, but the model found only 5% of actual positive cases. F1 value is very far away from 1, so it tells that the model is doing poor job. "
      ],
      "metadata": {
        "id": "7ePTiVbPSBg9"
      }
    },
    {
      "cell_type": "markdown",
      "source": [
        "**Random forest pros and cons**\n",
        "\n",
        "Pros:\n",
        "\n",
        "- Can be used for classification, and regression\n",
        "- Works well with categorical and numerical data\n",
        "- Can handle linear and non-linear realationships\n",
        "\n",
        "Cons: \n",
        "- Random Forests are not easily interpretable. They provide feature importance but it does not provide complete visibility into the coefficients as linear regression.\n",
        "- Black box algrithm, so you have very little control on model "
      ],
      "metadata": {
        "id": "pNfGlfTVSqun"
      }
    },
    {
      "cell_type": "code",
      "source": [],
      "metadata": {
        "id": "Zo3ZUri9UAiM"
      },
      "execution_count": null,
      "outputs": []
    }
  ]
}